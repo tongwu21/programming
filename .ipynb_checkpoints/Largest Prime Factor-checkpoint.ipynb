{
 "cells": [
  {
   "cell_type": "markdown",
   "metadata": {},
   "source": [
    "The prime factors of 13195 are 5, 7, 13 and 29.\n",
    "\n",
    "What is the largest prime factor of the number 600851475143 ?"
   ]
  },
  {
   "cell_type": "code",
   "execution_count": 46,
   "metadata": {
    "collapsed": true
   },
   "outputs": [],
   "source": [
    "# This is a funtion to tell whether a number is prime based on a list of primes small than it.\n",
    "def isprime(num, primelist):\n",
    "    for prime in primelist:\n",
    "        if num%prime == 0:\n",
    "            return False\n",
    "    return True"
   ]
  },
  {
   "cell_type": "code",
   "execution_count": 47,
   "metadata": {
    "collapsed": true
   },
   "outputs": [],
   "source": [
    "# This is a function to find the next prime number for a list of primes.\n",
    "def findnextprime(primelist):\n",
    "    if primelist[-1] == 2:\n",
    "        return 3\n",
    "    test = primelist[-1] + 2\n",
    "    while not(isprime(test, primelist)):\n",
    "        test += 2\n",
    "    return test"
   ]
  },
  {
   "cell_type": "code",
   "execution_count": 48,
   "metadata": {
    "collapsed": true
   },
   "outputs": [],
   "source": [
    "# This is the main function to find the largest prime factor for a big input number.\n",
    "# The input number is factored by from small prime numbers to big prime numbers.\n",
    "# When the input number cannot be factored anymore, the remaining part is the largest prime factor.\n",
    "def largestprimefactor(bignum):\n",
    "    primelist = [2]\n",
    "    nextprime = 2\n",
    "    while nextprime < bignum:\n",
    "        while bignum % nextprime == 0:\n",
    "            bignum/= nextprime\n",
    "        nextprime = findnextprime(primelist)\n",
    "        primelist.append(nextprime)\n",
    "    return bignum"
   ]
  },
  {
   "cell_type": "code",
   "execution_count": 49,
   "metadata": {},
   "outputs": [
    {
     "data": {
      "text/plain": [
       "6857.0"
      ]
     },
     "execution_count": 49,
     "metadata": {},
     "output_type": "execute_result"
    }
   ],
   "source": [
    "largestprimefactor(600851475143)"
   ]
  },
  {
   "cell_type": "code",
   "execution_count": null,
   "metadata": {
    "collapsed": true
   },
   "outputs": [],
   "source": []
  }
 ],
 "metadata": {
  "kernelspec": {
   "display_name": "Python 3",
   "language": "python",
   "name": "python3"
  },
  "language_info": {
   "codemirror_mode": {
    "name": "ipython",
    "version": 3
   },
   "file_extension": ".py",
   "mimetype": "text/x-python",
   "name": "python",
   "nbconvert_exporter": "python",
   "pygments_lexer": "ipython3",
   "version": "3.6.1"
  }
 },
 "nbformat": 4,
 "nbformat_minor": 2
}
